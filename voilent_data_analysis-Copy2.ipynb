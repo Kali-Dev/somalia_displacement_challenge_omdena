{
 "cells": [
  {
   "cell_type": "code",
   "execution_count": 1,
   "metadata": {},
   "outputs": [],
   "source": [
    "import numpy as np\n",
    "import pandas as pd\n",
    "import os\n",
    "import glob\n",
    "import matplotlib.pyplot as plt\n",
    "import seaborn as sns\n",
    "import geopandas as gpd\n",
    "from shapely.geometry import Point, Polygon\n",
    "import folium\n",
    "from pylab import rcParams\n",
    "from IPython.display import display\n",
    "%matplotlib inline"
   ]
  },
  {
   "cell_type": "code",
   "execution_count": 2,
   "metadata": {},
   "outputs": [],
   "source": [
    "voilent_df = pd.read_csv(\"2_Violent_Conflict_data/VIolent conflict 2010_2019 with coordinates.csv\")"
   ]
  },
  {
   "cell_type": "code",
   "execution_count": 3,
   "metadata": {},
   "outputs": [
    {
     "data": {
      "text/html": [
       "<div>\n",
       "<style scoped>\n",
       "    .dataframe tbody tr th:only-of-type {\n",
       "        vertical-align: middle;\n",
       "    }\n",
       "\n",
       "    .dataframe tbody tr th {\n",
       "        vertical-align: top;\n",
       "    }\n",
       "\n",
       "    .dataframe thead th {\n",
       "        text-align: right;\n",
       "    }\n",
       "</style>\n",
       "<table border=\"1\" class=\"dataframe\">\n",
       "  <thead>\n",
       "    <tr style=\"text-align: right;\">\n",
       "      <th></th>\n",
       "      <th>data_id</th>\n",
       "      <th>iso</th>\n",
       "      <th>event_id_cnty</th>\n",
       "      <th>event_id_no_cnty</th>\n",
       "      <th>event_date</th>\n",
       "      <th>year</th>\n",
       "      <th>time_precision</th>\n",
       "      <th>event_type</th>\n",
       "      <th>sub_event_type</th>\n",
       "      <th>actor1</th>\n",
       "      <th>...</th>\n",
       "      <th>location</th>\n",
       "      <th>latitude</th>\n",
       "      <th>longitude</th>\n",
       "      <th>geo_precision</th>\n",
       "      <th>source</th>\n",
       "      <th>source_scale</th>\n",
       "      <th>notes</th>\n",
       "      <th>fatalities</th>\n",
       "      <th>timestamp</th>\n",
       "      <th>iso3</th>\n",
       "    </tr>\n",
       "  </thead>\n",
       "  <tbody>\n",
       "    <tr>\n",
       "      <td>0</td>\n",
       "      <td>5663002</td>\n",
       "      <td>706</td>\n",
       "      <td>SOM29138</td>\n",
       "      <td>29138</td>\n",
       "      <td>27 July 2019</td>\n",
       "      <td>2019</td>\n",
       "      <td>1</td>\n",
       "      <td>Battles</td>\n",
       "      <td>Armed clash</td>\n",
       "      <td>Al Shabaab</td>\n",
       "      <td>...</td>\n",
       "      <td>Balad</td>\n",
       "      <td>2.3500</td>\n",
       "      <td>45.3833</td>\n",
       "      <td>1</td>\n",
       "      <td>Twitter</td>\n",
       "      <td>Other</td>\n",
       "      <td>27 July. Clashes occurred in Balad between AMI...</td>\n",
       "      <td>0</td>\n",
       "      <td>1564426183</td>\n",
       "      <td>SOM</td>\n",
       "    </tr>\n",
       "    <tr>\n",
       "      <td>1</td>\n",
       "      <td>5663003</td>\n",
       "      <td>706</td>\n",
       "      <td>SOM29139</td>\n",
       "      <td>29139</td>\n",
       "      <td>27 July 2019</td>\n",
       "      <td>2019</td>\n",
       "      <td>1</td>\n",
       "      <td>Battles</td>\n",
       "      <td>Armed clash</td>\n",
       "      <td>Military Forces of Somaliland (2010-)</td>\n",
       "      <td>...</td>\n",
       "      <td>Karin Biyood</td>\n",
       "      <td>10.1499</td>\n",
       "      <td>46.1049</td>\n",
       "      <td>1</td>\n",
       "      <td>Twitter</td>\n",
       "      <td>Other</td>\n",
       "      <td>27 July. At least two soldiers were killed whe...</td>\n",
       "      <td>2</td>\n",
       "      <td>1564426183</td>\n",
       "      <td>SOM</td>\n",
       "    </tr>\n",
       "    <tr>\n",
       "      <td>2</td>\n",
       "      <td>5663004</td>\n",
       "      <td>706</td>\n",
       "      <td>SOM29140</td>\n",
       "      <td>29140</td>\n",
       "      <td>27 July 2019</td>\n",
       "      <td>2019</td>\n",
       "      <td>1</td>\n",
       "      <td>Violence against civilians</td>\n",
       "      <td>Attack</td>\n",
       "      <td>Al Shabaab</td>\n",
       "      <td>...</td>\n",
       "      <td>Saakow</td>\n",
       "      <td>1.6394</td>\n",
       "      <td>42.4522</td>\n",
       "      <td>1</td>\n",
       "      <td>Twitter</td>\n",
       "      <td>Other</td>\n",
       "      <td>27 July. Al Shabaab militants executed a man t...</td>\n",
       "      <td>1</td>\n",
       "      <td>1564426183</td>\n",
       "      <td>SOM</td>\n",
       "    </tr>\n",
       "    <tr>\n",
       "      <td>3</td>\n",
       "      <td>5662998</td>\n",
       "      <td>706</td>\n",
       "      <td>SOM29134</td>\n",
       "      <td>29134</td>\n",
       "      <td>26 July 2019</td>\n",
       "      <td>2019</td>\n",
       "      <td>1</td>\n",
       "      <td>Battles</td>\n",
       "      <td>Armed clash</td>\n",
       "      <td>Military Forces of Somalia (2017-) National In...</td>\n",
       "      <td>...</td>\n",
       "      <td>Marka</td>\n",
       "      <td>1.7131</td>\n",
       "      <td>44.7639</td>\n",
       "      <td>1</td>\n",
       "      <td>Shabelle Media Network</td>\n",
       "      <td>Subnational</td>\n",
       "      <td>26 July. Military soldiers clashed with forces...</td>\n",
       "      <td>10</td>\n",
       "      <td>1564426183</td>\n",
       "      <td>SOM</td>\n",
       "    </tr>\n",
       "    <tr>\n",
       "      <td>4</td>\n",
       "      <td>5662999</td>\n",
       "      <td>706</td>\n",
       "      <td>SOM29135</td>\n",
       "      <td>29135</td>\n",
       "      <td>26 July 2019</td>\n",
       "      <td>2019</td>\n",
       "      <td>1</td>\n",
       "      <td>Violence against civilians</td>\n",
       "      <td>Attack</td>\n",
       "      <td>Military Forces of Kenya (2013-)</td>\n",
       "      <td>...</td>\n",
       "      <td>El Wak</td>\n",
       "      <td>2.7352</td>\n",
       "      <td>41.0177</td>\n",
       "      <td>3</td>\n",
       "      <td>Shabelle Media Network</td>\n",
       "      <td>Subnational</td>\n",
       "      <td>26 July. A truck driver heading from Somalia t...</td>\n",
       "      <td>0</td>\n",
       "      <td>1564426183</td>\n",
       "      <td>SOM</td>\n",
       "    </tr>\n",
       "  </tbody>\n",
       "</table>\n",
       "<p>5 rows × 31 columns</p>\n",
       "</div>"
      ],
      "text/plain": [
       "   data_id  iso event_id_cnty  event_id_no_cnty    event_date  year  \\\n",
       "0  5663002  706      SOM29138             29138  27 July 2019  2019   \n",
       "1  5663003  706      SOM29139             29139  27 July 2019  2019   \n",
       "2  5663004  706      SOM29140             29140  27 July 2019  2019   \n",
       "3  5662998  706      SOM29134             29134  26 July 2019  2019   \n",
       "4  5662999  706      SOM29135             29135  26 July 2019  2019   \n",
       "\n",
       "   time_precision                  event_type sub_event_type  \\\n",
       "0               1                     Battles    Armed clash   \n",
       "1               1                     Battles    Armed clash   \n",
       "2               1  Violence against civilians         Attack   \n",
       "3               1                     Battles    Armed clash   \n",
       "4               1  Violence against civilians         Attack   \n",
       "\n",
       "                                              actor1  ...      location  \\\n",
       "0                                         Al Shabaab  ...         Balad   \n",
       "1              Military Forces of Somaliland (2010-)  ...  Karin Biyood   \n",
       "2                                         Al Shabaab  ...        Saakow   \n",
       "3  Military Forces of Somalia (2017-) National In...  ...         Marka   \n",
       "4                   Military Forces of Kenya (2013-)  ...        El Wak   \n",
       "\n",
       "   latitude longitude geo_precision                  source  source_scale  \\\n",
       "0    2.3500   45.3833             1                 Twitter         Other   \n",
       "1   10.1499   46.1049             1                 Twitter         Other   \n",
       "2    1.6394   42.4522             1                 Twitter         Other   \n",
       "3    1.7131   44.7639             1  Shabelle Media Network   Subnational   \n",
       "4    2.7352   41.0177             3  Shabelle Media Network   Subnational   \n",
       "\n",
       "                                               notes fatalities   timestamp  \\\n",
       "0  27 July. Clashes occurred in Balad between AMI...          0  1564426183   \n",
       "1  27 July. At least two soldiers were killed whe...          2  1564426183   \n",
       "2  27 July. Al Shabaab militants executed a man t...          1  1564426183   \n",
       "3  26 July. Military soldiers clashed with forces...         10  1564426183   \n",
       "4  26 July. A truck driver heading from Somalia t...          0  1564426183   \n",
       "\n",
       "  iso3  \n",
       "0  SOM  \n",
       "1  SOM  \n",
       "2  SOM  \n",
       "3  SOM  \n",
       "4  SOM  \n",
       "\n",
       "[5 rows x 31 columns]"
      ]
     },
     "execution_count": 3,
     "metadata": {},
     "output_type": "execute_result"
    }
   ],
   "source": [
    "voilent_df.head()"
   ]
  },
  {
   "cell_type": "code",
   "execution_count": 4,
   "metadata": {},
   "outputs": [
    {
     "name": "stdout",
     "output_type": "stream",
     "text": [
      "<class 'pandas.core.frame.DataFrame'>\n",
      "RangeIndex: 20488 entries, 0 to 20487\n",
      "Data columns (total 31 columns):\n",
      "data_id             20488 non-null int64\n",
      "iso                 20488 non-null int64\n",
      "event_id_cnty       20488 non-null object\n",
      "event_id_no_cnty    20488 non-null int64\n",
      "event_date          20488 non-null object\n",
      "year                20488 non-null int64\n",
      "time_precision      20488 non-null int64\n",
      "event_type          20488 non-null object\n",
      "sub_event_type      20488 non-null object\n",
      "actor1              20488 non-null object\n",
      "assoc_actor_1       1653 non-null object\n",
      "inter1              20488 non-null int64\n",
      "actor2              20284 non-null object\n",
      "assoc_actor_2       3141 non-null object\n",
      "inter2              20488 non-null int64\n",
      "interaction         20488 non-null int64\n",
      "region              20488 non-null object\n",
      "country             20488 non-null object\n",
      "admin1              20488 non-null object\n",
      "admin2              20488 non-null object\n",
      "admin3              1 non-null object\n",
      "location            20488 non-null object\n",
      "latitude            20488 non-null float64\n",
      "longitude           20488 non-null float64\n",
      "geo_precision       20488 non-null int64\n",
      "source              20488 non-null object\n",
      "source_scale        20488 non-null object\n",
      "notes               20485 non-null object\n",
      "fatalities          20488 non-null int64\n",
      "timestamp           20488 non-null int64\n",
      "iso3                20488 non-null object\n",
      "dtypes: float64(2), int64(11), object(18)\n",
      "memory usage: 4.8+ MB\n"
     ]
    }
   ],
   "source": [
    "voilent_df.info()"
   ]
  },
  {
   "cell_type": "markdown",
   "metadata": {},
   "source": [
    "- There are total 31 columns\n",
    "- Only assoc_actor_1 and admin3 columns has null values.\n",
    "- We don't require those columns for our analysis so lets ignore it."
   ]
  },
  {
   "cell_type": "code",
   "execution_count": 5,
   "metadata": {},
   "outputs": [
    {
     "data": {
      "text/plain": [
       "0"
      ]
     },
     "execution_count": 5,
     "metadata": {},
     "output_type": "execute_result"
    }
   ],
   "source": [
    "voilent_df.duplicated().sum()"
   ]
  },
  {
   "cell_type": "markdown",
   "metadata": {},
   "source": [
    "- So there are no duplicate entries and dataset is pretty clean."
   ]
  },
  {
   "cell_type": "code",
   "execution_count": 6,
   "metadata": {},
   "outputs": [
    {
     "data": {
      "text/plain": [
       "Eastern Africa    20488\n",
       "Name: region, dtype: int64"
      ]
     },
     "execution_count": 6,
     "metadata": {},
     "output_type": "execute_result"
    }
   ],
   "source": [
    "voilent_df.region.value_counts()"
   ]
  },
  {
   "cell_type": "code",
   "execution_count": 7,
   "metadata": {},
   "outputs": [
    {
     "data": {
      "text/plain": [
       "Somalia    20488\n",
       "Name: country, dtype: int64"
      ]
     },
     "execution_count": 7,
     "metadata": {},
     "output_type": "execute_result"
    }
   ],
   "source": [
    "voilent_df.country.value_counts()"
   ]
  },
  {
   "cell_type": "markdown",
   "metadata": {},
   "source": [
    "- So the data belongs to Eastern Africa of Somalia Country."
   ]
  },
  {
   "cell_type": "code",
   "execution_count": 8,
   "metadata": {},
   "outputs": [],
   "source": [
    "somalia_shp_df = gpd.read_file('SOM_adm/SOM_adm1.shp')"
   ]
  },
  {
   "cell_type": "code",
   "execution_count": 9,
   "metadata": {},
   "outputs": [
    {
     "data": {
      "text/html": [
       "<div>\n",
       "<style scoped>\n",
       "    .dataframe tbody tr th:only-of-type {\n",
       "        vertical-align: middle;\n",
       "    }\n",
       "\n",
       "    .dataframe tbody tr th {\n",
       "        vertical-align: top;\n",
       "    }\n",
       "\n",
       "    .dataframe thead th {\n",
       "        text-align: right;\n",
       "    }\n",
       "</style>\n",
       "<table border=\"1\" class=\"dataframe\">\n",
       "  <thead>\n",
       "    <tr style=\"text-align: right;\">\n",
       "      <th></th>\n",
       "      <th>ID_0</th>\n",
       "      <th>ISO</th>\n",
       "      <th>NAME_0</th>\n",
       "      <th>ID_1</th>\n",
       "      <th>NAME_1</th>\n",
       "      <th>TYPE_1</th>\n",
       "      <th>ENGTYPE_1</th>\n",
       "      <th>NL_NAME_1</th>\n",
       "      <th>VARNAME_1</th>\n",
       "      <th>geometry</th>\n",
       "    </tr>\n",
       "  </thead>\n",
       "  <tbody>\n",
       "    <tr>\n",
       "      <td>0</td>\n",
       "      <td>210</td>\n",
       "      <td>SOM</td>\n",
       "      <td>Somalia</td>\n",
       "      <td>1</td>\n",
       "      <td>Awdal</td>\n",
       "      <td>Gobolka</td>\n",
       "      <td>Region</td>\n",
       "      <td>None</td>\n",
       "      <td>Adal | Adel</td>\n",
       "      <td>(POLYGON ((43.46125030517607 11.35402774810791...</td>\n",
       "    </tr>\n",
       "    <tr>\n",
       "      <td>1</td>\n",
       "      <td>210</td>\n",
       "      <td>SOM</td>\n",
       "      <td>Somalia</td>\n",
       "      <td>2</td>\n",
       "      <td>Bakool</td>\n",
       "      <td>Gobolka</td>\n",
       "      <td>Region</td>\n",
       "      <td>None</td>\n",
       "      <td>None</td>\n",
       "      <td>POLYGON ((44.75000000000006 4.070000171661434,...</td>\n",
       "    </tr>\n",
       "    <tr>\n",
       "      <td>2</td>\n",
       "      <td>210</td>\n",
       "      <td>SOM</td>\n",
       "      <td>Somalia</td>\n",
       "      <td>3</td>\n",
       "      <td>Banaadir</td>\n",
       "      <td>Gobolka</td>\n",
       "      <td>Region</td>\n",
       "      <td>None</td>\n",
       "      <td>Benadir</td>\n",
       "      <td>POLYGON ((45.44235992431646 2.08708310127264, ...</td>\n",
       "    </tr>\n",
       "    <tr>\n",
       "      <td>3</td>\n",
       "      <td>210</td>\n",
       "      <td>SOM</td>\n",
       "      <td>Somalia</td>\n",
       "      <td>4</td>\n",
       "      <td>Bari</td>\n",
       "      <td>Gobolka</td>\n",
       "      <td>Region</td>\n",
       "      <td>None</td>\n",
       "      <td>None</td>\n",
       "      <td>(POLYGON ((51.18291854858393 10.55986118316656...</td>\n",
       "    </tr>\n",
       "    <tr>\n",
       "      <td>4</td>\n",
       "      <td>210</td>\n",
       "      <td>SOM</td>\n",
       "      <td>Somalia</td>\n",
       "      <td>5</td>\n",
       "      <td>Bay</td>\n",
       "      <td>Gobolka</td>\n",
       "      <td>Region</td>\n",
       "      <td>None</td>\n",
       "      <td>Baay</td>\n",
       "      <td>POLYGON ((44.31000137329119 3.570000886917114,...</td>\n",
       "    </tr>\n",
       "  </tbody>\n",
       "</table>\n",
       "</div>"
      ],
      "text/plain": [
       "   ID_0  ISO   NAME_0  ID_1    NAME_1   TYPE_1 ENGTYPE_1 NL_NAME_1  \\\n",
       "0   210  SOM  Somalia     1     Awdal  Gobolka    Region      None   \n",
       "1   210  SOM  Somalia     2    Bakool  Gobolka    Region      None   \n",
       "2   210  SOM  Somalia     3  Banaadir  Gobolka    Region      None   \n",
       "3   210  SOM  Somalia     4      Bari  Gobolka    Region      None   \n",
       "4   210  SOM  Somalia     5       Bay  Gobolka    Region      None   \n",
       "\n",
       "     VARNAME_1                                           geometry  \n",
       "0  Adal | Adel  (POLYGON ((43.46125030517607 11.35402774810791...  \n",
       "1         None  POLYGON ((44.75000000000006 4.070000171661434,...  \n",
       "2      Benadir  POLYGON ((45.44235992431646 2.08708310127264, ...  \n",
       "3         None  (POLYGON ((51.18291854858393 10.55986118316656...  \n",
       "4         Baay  POLYGON ((44.31000137329119 3.570000886917114,...  "
      ]
     },
     "execution_count": 9,
     "metadata": {},
     "output_type": "execute_result"
    }
   ],
   "source": [
    "somalia_shp_df.head()"
   ]
  },
  {
   "cell_type": "code",
   "execution_count": 11,
   "metadata": {},
   "outputs": [
    {
     "data": {
      "text/plain": [
       "(18,)"
      ]
     },
     "execution_count": 11,
     "metadata": {},
     "output_type": "execute_result"
    }
   ],
   "source": [
    "somalia_shp_df.NAME_1.unique().shape"
   ]
  },
  {
   "cell_type": "code",
   "execution_count": 28,
   "metadata": {},
   "outputs": [],
   "source": [
    "from sklearn.preprocessing import LabelEncoder\n",
    "labelencoder = LabelEncoder()\n",
    "events_encoded = labelencoder.fit_transform(voilent_df.event_type)"
   ]
  },
  {
   "cell_type": "code",
   "execution_count": 172,
   "metadata": {},
   "outputs": [
    {
     "data": {
      "image/png": "[encoded data removed]",
      "text/plain": [
       "<Figure size 720x1296 with 1 Axes>"
      ]
     },
     "metadata": {
      "needs_background": "light"
     },
     "output_type": "display_data"
    }
   ],
   "source": [
    "# Set legend style\n",
    "lgnd_kwds = {'title': 'Somaila admin Districts',\n",
    "               'loc': 'upper left', 'bbox_to_anchor': (1, 1.03), 'ncol': 1}\n",
    "rcParams['figure.figsize'] = 10, 18\n",
    "somalia_shp_df.plot(column='NAME_1', cmap='Dark2', legend=True, legend_kwds = lgnd_kwds)#, fig_size=(10,10));\n",
    "plt.scatter(x=voilent_df.longitude, y=voilent_df.latitude, c='black', edgecolor='white')\n",
    "#plt.legend(voilent_df.event_type.unique());\n",
    "#plt.legend(voilent_df.event_type.unique())\n",
    "plt.tight_layout()\n",
    "plt.title('somalia administrative level events')\n",
    "plt.show()"
   ]
  },
  {
   "cell_type": "code",
   "execution_count": 15,
   "metadata": {},
   "outputs": [
    {
     "data": {
      "text/plain": [
       "array(['Battles', 'Violence against civilians',\n",
       "       'Explosions/Remote violence', 'Riots'], dtype=object)"
      ]
     },
     "execution_count": 15,
     "metadata": {},
     "output_type": "execute_result"
    }
   ],
   "source": [
    "voilent_df.event_type.unique()"
   ]
  },
  {
   "cell_type": "code",
   "execution_count": 17,
   "metadata": {},
   "outputs": [],
   "source": [
    "Battle_df = voilent_df[voilent_df.event_type == 'Battles']\n",
    "Violence_df = voilent_df[voilent_df.event_type == 'Violence against civilians']\n",
    "Explosions_df = voilent_df[voilent_df.event_type == 'Explosions/Remote violence']\n",
    "Riots_df =  voilent_df[voilent_df.event_type == 'Riots']"
   ]
  },
  {
   "cell_type": "markdown",
   "metadata": {},
   "source": [
    "### Lets plot the eventts in the folium map for better data visualization."
   ]
  },
  {
   "cell_type": "code",
   "execution_count": 40,
   "metadata": {},
   "outputs": [],
   "source": [
    "m = folium.Map(location=[5.1521, 46.1996])"
   ]
  },
  {
   "cell_type": "code",
   "execution_count": 41,
   "metadata": {},
   "outputs": [],
   "source": [
    "voilent_gdf = gpd.GeoDataFrame(\n",
    "    voilent_df, geometry=[Point(x, y) for x, y in zip(voilent_df.longitude, voilent_df.latitude)])"
   ]
  },
  {
   "cell_type": "code",
   "execution_count": 42,
   "metadata": {},
   "outputs": [
    {
     "data": {
      "text/html": [
       "<div>\n",
       "<style scoped>\n",
       "    .dataframe tbody tr th:only-of-type {\n",
       "        vertical-align: middle;\n",
       "    }\n",
       "\n",
       "    .dataframe tbody tr th {\n",
       "        vertical-align: top;\n",
       "    }\n",
       "\n",
       "    .dataframe thead th {\n",
       "        text-align: right;\n",
       "    }\n",
       "</style>\n",
       "<table border=\"1\" class=\"dataframe\">\n",
       "  <thead>\n",
       "    <tr style=\"text-align: right;\">\n",
       "      <th></th>\n",
       "      <th>data_id</th>\n",
       "      <th>iso</th>\n",
       "      <th>event_id_cnty</th>\n",
       "      <th>event_id_no_cnty</th>\n",
       "      <th>event_date</th>\n",
       "      <th>year</th>\n",
       "      <th>time_precision</th>\n",
       "      <th>event_type</th>\n",
       "      <th>sub_event_type</th>\n",
       "      <th>actor1</th>\n",
       "      <th>...</th>\n",
       "      <th>latitude</th>\n",
       "      <th>longitude</th>\n",
       "      <th>geo_precision</th>\n",
       "      <th>source</th>\n",
       "      <th>source_scale</th>\n",
       "      <th>notes</th>\n",
       "      <th>fatalities</th>\n",
       "      <th>timestamp</th>\n",
       "      <th>iso3</th>\n",
       "      <th>geometry</th>\n",
       "    </tr>\n",
       "  </thead>\n",
       "  <tbody>\n",
       "    <tr>\n",
       "      <td>0</td>\n",
       "      <td>5663002</td>\n",
       "      <td>706</td>\n",
       "      <td>SOM29138</td>\n",
       "      <td>29138</td>\n",
       "      <td>27 July 2019</td>\n",
       "      <td>2019</td>\n",
       "      <td>1</td>\n",
       "      <td>Battles</td>\n",
       "      <td>Armed clash</td>\n",
       "      <td>Al Shabaab</td>\n",
       "      <td>...</td>\n",
       "      <td>2.35</td>\n",
       "      <td>45.3833</td>\n",
       "      <td>1</td>\n",
       "      <td>Twitter</td>\n",
       "      <td>Other</td>\n",
       "      <td>27 July. Clashes occurred in Balad between AMI...</td>\n",
       "      <td>0</td>\n",
       "      <td>1564426183</td>\n",
       "      <td>SOM</td>\n",
       "      <td>POINT (45.3833 2.35)</td>\n",
       "    </tr>\n",
       "  </tbody>\n",
       "</table>\n",
       "<p>1 rows × 32 columns</p>\n",
       "</div>"
      ],
      "text/plain": [
       "   data_id  iso event_id_cnty  event_id_no_cnty    event_date  year  \\\n",
       "0  5663002  706      SOM29138             29138  27 July 2019  2019   \n",
       "\n",
       "   time_precision event_type sub_event_type      actor1  ... latitude  \\\n",
       "0               1    Battles    Armed clash  Al Shabaab  ...     2.35   \n",
       "\n",
       "   longitude geo_precision   source  source_scale  \\\n",
       "0    45.3833             1  Twitter         Other   \n",
       "\n",
       "                                               notes fatalities   timestamp  \\\n",
       "0  27 July. Clashes occurred in Balad between AMI...          0  1564426183   \n",
       "\n",
       "  iso3              geometry  \n",
       "0  SOM  POINT (45.3833 2.35)  \n",
       "\n",
       "[1 rows x 32 columns]"
      ]
     },
     "execution_count": 42,
     "metadata": {},
     "output_type": "execute_result"
    }
   ],
   "source": [
    "voilent_gdf.head(1)"
   ]
  },
  {
   "cell_type": "code",
   "execution_count": 46,
   "metadata": {},
   "outputs": [],
   "source": [
    "voil_admin1_names = voilent_gdf.admin1.unique()\n",
    "shap_admin1_names = somalia_shp_df.NAME_1.unique()"
   ]
  },
  {
   "cell_type": "code",
   "execution_count": 47,
   "metadata": {},
   "outputs": [],
   "source": [
    "# mapping somali admin names to english names\n",
    "somali_adm_names_dict = {'Jubbada Hoose' : 'Lower Juba',\n",
    "                         'Shabeellaha Hoose' : 'Lower Shabelle',\n",
    "                         'Jubbada Dhexe' : 'Middle Juba', \n",
    "                         'Shabeellaha Dhexe' : 'Middle Shabelle',\n",
    "                         'Banaadir' : 'Banadir',\n",
    "                         'Hiiraan' : 'Hiraan',\n",
    "                         'Galguduud': 'Galgaduud'}"
   ]
  },
  {
   "cell_type": "markdown",
   "metadata": {},
   "source": [
    "'Lower Juba' and 'Jubbada Hoose' both are same.\n",
    "'Lower Shabelle' and 'Shabeellaha Hoose' are same\n",
    "'Middle Juba' and 'Jubbada Dhexe' are same.\n",
    "'Middle Shabelle' and Shabeellaha Dhexe are same."
   ]
  },
  {
   "cell_type": "code",
   "execution_count": 63,
   "metadata": {},
   "outputs": [
    {
     "data": {
      "text/plain": [
       "'new_shap_admin1_names = shap_admin1_names.copy()\\nfor ind, x in enumerate(shap_admin1_names):\\n    if x in somali_adm_names_dict:\\n        new_shap_admin1_names[ind] = somali_adm_names_dict[x]\\nnew_shap_admin1_names.sort()'"
      ]
     },
     "execution_count": 63,
     "metadata": {},
     "output_type": "execute_result"
    }
   ],
   "source": [
    "'''new_shap_admin1_names = shap_admin1_names.copy()\n",
    "for ind, x in enumerate(shap_admin1_names):\n",
    "    if x in somali_adm_names_dict:\n",
    "        new_shap_admin1_names[ind] = somali_adm_names_dict[x]\n",
    "new_shap_admin1_names.sort()'''"
   ]
  },
  {
   "cell_type": "code",
   "execution_count": 64,
   "metadata": {},
   "outputs": [],
   "source": [
    "english_admin_1_names = []\n",
    "for x in somalia_shp_df.NAME_1:\n",
    "    if x in somali_adm_names_dict:\n",
    "        english_admin_1_names.append(somali_adm_names_dict[x])\n",
    "    else:\n",
    "        english_admin_1_names.append(x)"
   ]
  },
  {
   "cell_type": "code",
   "execution_count": 65,
   "metadata": {},
   "outputs": [],
   "source": [
    "somalia_shp_df['english_admin_1_names'] = english_admin_1_names"
   ]
  },
  {
   "cell_type": "code",
   "execution_count": 68,
   "metadata": {},
   "outputs": [
    {
     "data": {
      "text/plain": [
       "\"for row in voilent_gdf.iterrows():\\n    row_values = row[1]\\n    location = [row_values['latitude'], row_values['longitude']] \\n    marker = folium.Marker(location=location)\\n    marker.add_to(m)\""
      ]
     },
     "execution_count": 68,
     "metadata": {},
     "output_type": "execute_result"
    }
   ],
   "source": [
    "'''for row in voilent_gdf.iterrows():\n",
    "    row_values = row[1]\n",
    "    location = [row_values['latitude'], row_values['longitude']] \n",
    "    marker = folium.Marker(location=location)\n",
    "    marker.add_to(m)'''"
   ]
  },
  {
   "cell_type": "code",
   "execution_count": 69,
   "metadata": {},
   "outputs": [
    {
     "data": {
      "text/html": [
       "<div>\n",
       "<style scoped>\n",
       "    .dataframe tbody tr th:only-of-type {\n",
       "        vertical-align: middle;\n",
       "    }\n",
       "\n",
       "    .dataframe tbody tr th {\n",
       "        vertical-align: top;\n",
       "    }\n",
       "\n",
       "    .dataframe thead th {\n",
       "        text-align: right;\n",
       "    }\n",
       "</style>\n",
       "<table border=\"1\" class=\"dataframe\">\n",
       "  <thead>\n",
       "    <tr style=\"text-align: right;\">\n",
       "      <th></th>\n",
       "      <th>ID_0</th>\n",
       "      <th>ISO</th>\n",
       "      <th>NAME_0</th>\n",
       "      <th>ID_1</th>\n",
       "      <th>NAME_1</th>\n",
       "      <th>TYPE_1</th>\n",
       "      <th>ENGTYPE_1</th>\n",
       "      <th>NL_NAME_1</th>\n",
       "      <th>VARNAME_1</th>\n",
       "      <th>geometry</th>\n",
       "      <th>english_admin_1_names</th>\n",
       "    </tr>\n",
       "  </thead>\n",
       "  <tbody>\n",
       "    <tr>\n",
       "      <td>0</td>\n",
       "      <td>210</td>\n",
       "      <td>SOM</td>\n",
       "      <td>Somalia</td>\n",
       "      <td>1</td>\n",
       "      <td>Awdal</td>\n",
       "      <td>Gobolka</td>\n",
       "      <td>Region</td>\n",
       "      <td>None</td>\n",
       "      <td>Adal | Adel</td>\n",
       "      <td>(POLYGON ((43.46125030517607 11.35402774810791...</td>\n",
       "      <td>Awdal</td>\n",
       "    </tr>\n",
       "    <tr>\n",
       "      <td>1</td>\n",
       "      <td>210</td>\n",
       "      <td>SOM</td>\n",
       "      <td>Somalia</td>\n",
       "      <td>2</td>\n",
       "      <td>Bakool</td>\n",
       "      <td>Gobolka</td>\n",
       "      <td>Region</td>\n",
       "      <td>None</td>\n",
       "      <td>None</td>\n",
       "      <td>POLYGON ((44.75000000000006 4.070000171661434,...</td>\n",
       "      <td>Bakool</td>\n",
       "    </tr>\n",
       "    <tr>\n",
       "      <td>2</td>\n",
       "      <td>210</td>\n",
       "      <td>SOM</td>\n",
       "      <td>Somalia</td>\n",
       "      <td>3</td>\n",
       "      <td>Banaadir</td>\n",
       "      <td>Gobolka</td>\n",
       "      <td>Region</td>\n",
       "      <td>None</td>\n",
       "      <td>Benadir</td>\n",
       "      <td>POLYGON ((45.44235992431646 2.08708310127264, ...</td>\n",
       "      <td>Banadir</td>\n",
       "    </tr>\n",
       "    <tr>\n",
       "      <td>3</td>\n",
       "      <td>210</td>\n",
       "      <td>SOM</td>\n",
       "      <td>Somalia</td>\n",
       "      <td>4</td>\n",
       "      <td>Bari</td>\n",
       "      <td>Gobolka</td>\n",
       "      <td>Region</td>\n",
       "      <td>None</td>\n",
       "      <td>None</td>\n",
       "      <td>(POLYGON ((51.18291854858393 10.55986118316656...</td>\n",
       "      <td>Bari</td>\n",
       "    </tr>\n",
       "    <tr>\n",
       "      <td>4</td>\n",
       "      <td>210</td>\n",
       "      <td>SOM</td>\n",
       "      <td>Somalia</td>\n",
       "      <td>5</td>\n",
       "      <td>Bay</td>\n",
       "      <td>Gobolka</td>\n",
       "      <td>Region</td>\n",
       "      <td>None</td>\n",
       "      <td>Baay</td>\n",
       "      <td>POLYGON ((44.31000137329119 3.570000886917114,...</td>\n",
       "      <td>Bay</td>\n",
       "    </tr>\n",
       "  </tbody>\n",
       "</table>\n",
       "</div>"
      ],
      "text/plain": [
       "   ID_0  ISO   NAME_0  ID_1    NAME_1   TYPE_1 ENGTYPE_1 NL_NAME_1  \\\n",
       "0   210  SOM  Somalia     1     Awdal  Gobolka    Region      None   \n",
       "1   210  SOM  Somalia     2    Bakool  Gobolka    Region      None   \n",
       "2   210  SOM  Somalia     3  Banaadir  Gobolka    Region      None   \n",
       "3   210  SOM  Somalia     4      Bari  Gobolka    Region      None   \n",
       "4   210  SOM  Somalia     5       Bay  Gobolka    Region      None   \n",
       "\n",
       "     VARNAME_1                                           geometry  \\\n",
       "0  Adal | Adel  (POLYGON ((43.46125030517607 11.35402774810791...   \n",
       "1         None  POLYGON ((44.75000000000006 4.070000171661434,...   \n",
       "2      Benadir  POLYGON ((45.44235992431646 2.08708310127264, ...   \n",
       "3         None  (POLYGON ((51.18291854858393 10.55986118316656...   \n",
       "4         Baay  POLYGON ((44.31000137329119 3.570000886917114,...   \n",
       "\n",
       "  english_admin_1_names  \n",
       "0                 Awdal  \n",
       "1                Bakool  \n",
       "2               Banadir  \n",
       "3                  Bari  \n",
       "4                   Bay  "
      ]
     },
     "execution_count": 69,
     "metadata": {},
     "output_type": "execute_result"
    }
   ],
   "source": [
    "somalia_shp_df.head()"
   ]
  },
  {
   "cell_type": "code",
   "execution_count": 70,
   "metadata": {},
   "outputs": [
    {
     "data": {
      "text/plain": [
       "<folium.features.GeoJson at 0x2155c9e4488>"
      ]
     },
     "execution_count": 70,
     "metadata": {},
     "output_type": "execute_result"
    }
   ],
   "source": [
    "folium.GeoJson(somalia_shp_df.geometry).add_to(m)"
   ]
  },
  {
   "cell_type": "code",
   "execution_count": 73,
   "metadata": {},
   "outputs": [],
   "source": [
    "m.save(\"somalia with admin boundaries map.html\")"
   ]
  },
  {
   "cell_type": "code",
   "execution_count": 82,
   "metadata": {},
   "outputs": [],
   "source": [
    "somalia_events_choropleth = voilent_df.groupby('admin1').size()"
   ]
  },
  {
   "cell_type": "code",
   "execution_count": 86,
   "metadata": {},
   "outputs": [],
   "source": [
    "somalia_events_choropleth = somalia_events_choropleth.reset_index()\n",
    "somalia_events_choropleth.columns = ['english_admin_1_names', 'number of events']"
   ]
  },
  {
   "cell_type": "code",
   "execution_count": 91,
   "metadata": {},
   "outputs": [
    {
     "data": {
      "text/html": [
       "<div>\n",
       "<style scoped>\n",
       "    .dataframe tbody tr th:only-of-type {\n",
       "        vertical-align: middle;\n",
       "    }\n",
       "\n",
       "    .dataframe tbody tr th {\n",
       "        vertical-align: top;\n",
       "    }\n",
       "\n",
       "    .dataframe thead th {\n",
       "        text-align: right;\n",
       "    }\n",
       "</style>\n",
       "<table border=\"1\" class=\"dataframe\">\n",
       "  <thead>\n",
       "    <tr style=\"text-align: right;\">\n",
       "      <th></th>\n",
       "      <th>ID_0</th>\n",
       "      <th>ISO</th>\n",
       "      <th>NAME_0</th>\n",
       "      <th>ID_1</th>\n",
       "      <th>NAME_1</th>\n",
       "      <th>TYPE_1</th>\n",
       "      <th>ENGTYPE_1</th>\n",
       "      <th>NL_NAME_1</th>\n",
       "      <th>VARNAME_1</th>\n",
       "      <th>geometry</th>\n",
       "      <th>english_admin_1_names</th>\n",
       "    </tr>\n",
       "  </thead>\n",
       "  <tbody>\n",
       "    <tr>\n",
       "      <td>0</td>\n",
       "      <td>210</td>\n",
       "      <td>SOM</td>\n",
       "      <td>Somalia</td>\n",
       "      <td>1</td>\n",
       "      <td>Awdal</td>\n",
       "      <td>Gobolka</td>\n",
       "      <td>Region</td>\n",
       "      <td>None</td>\n",
       "      <td>Adal | Adel</td>\n",
       "      <td>(POLYGON ((43.46125030517607 11.35402774810791...</td>\n",
       "      <td>Awdal</td>\n",
       "    </tr>\n",
       "  </tbody>\n",
       "</table>\n",
       "</div>"
      ],
      "text/plain": [
       "   ID_0  ISO   NAME_0  ID_1 NAME_1   TYPE_1 ENGTYPE_1 NL_NAME_1    VARNAME_1  \\\n",
       "0   210  SOM  Somalia     1  Awdal  Gobolka    Region      None  Adal | Adel   \n",
       "\n",
       "                                            geometry english_admin_1_names  \n",
       "0  (POLYGON ((43.46125030517607 11.35402774810791...                 Awdal  "
      ]
     },
     "execution_count": 91,
     "metadata": {},
     "output_type": "execute_result"
    }
   ],
   "source": [
    "somalia_shp_df.head(1)"
   ]
  },
  {
   "cell_type": "code",
   "execution_count": 95,
   "metadata": {},
   "outputs": [],
   "source": [
    "admin_with_event_counts = pd.merge(somalia_events_choropleth, somalia_shp_df, on='english_admin_1_names')"
   ]
  },
  {
   "cell_type": "code",
   "execution_count": 98,
   "metadata": {},
   "outputs": [],
   "source": [
    "admin_with_event_counts = admin_with_event_counts[['english_admin_1_names', 'number of events', 'geometry']]"
   ]
  },
  {
   "cell_type": "code",
   "execution_count": 100,
   "metadata": {},
   "outputs": [],
   "source": [
    "total_events = admin_with_event_counts['number of events'].sum()"
   ]
  },
  {
   "cell_type": "code",
   "execution_count": null,
   "metadata": {},
   "outputs": [],
   "source": [
    "admin_with_event_counts['number of events']/total_events"
   ]
  },
  {
   "cell_type": "code",
   "execution_count": null,
   "metadata": {},
   "outputs": [],
   "source": [
    "admin_with_event_counts.pl"
   ]
  },
  {
   "cell_type": "code",
   "execution_count": 102,
   "metadata": {},
   "outputs": [
    {
     "data": {
      "text/plain": [
       "Index(['english_admin_1_names', 'number of events'], dtype='object')"
      ]
     },
     "execution_count": 102,
     "metadata": {},
     "output_type": "execute_result"
    }
   ],
   "source": [
    "somalia_events_choropleth.columns"
   ]
  },
  {
   "cell_type": "code",
   "execution_count": 121,
   "metadata": {},
   "outputs": [],
   "source": [
    "#gdf = \n",
    "admin_with_event_counts = gpd.GeoDataFrame(admin_with_event_counts, geometry=admin_with_event_counts.geometry)"
   ]
  },
  {
   "cell_type": "code",
   "execution_count": 149,
   "metadata": {},
   "outputs": [
    {
     "data": {
      "text/plain": [
       "<folium.map.LayerControl at 0x21569b3db48>"
      ]
     },
     "execution_count": 149,
     "metadata": {},
     "output_type": "execute_result"
    }
   ],
   "source": [
    "m = folium.Map(location=[5.1521, 46.1996], zoom_start=6)\n",
    "\n",
    "folium.Choropleth(\n",
    "    geo_data=somalia_shp_df,\n",
    "    name='geometry',\n",
    "    data=somalia_events_choropleth,\n",
    "    columns=['english_admin_1_names', 'number of events'],\n",
    "    key_on='feature.properties.english_admin_1_names',\n",
    "    fill_color='OrRd',\n",
    "    fill_opacity=0.7,\n",
    "    line_opacity=0.5,\n",
    "    legend_name='number of events'\n",
    ").add_to(m)\n",
    "\n",
    "folium.LayerControl().add_to(m)"
   ]
  },
  {
   "cell_type": "code",
   "execution_count": 150,
   "metadata": {},
   "outputs": [],
   "source": [
    "admin_with_event_counts['center'] = admin_with_event_counts.geometry.centroid\n",
    "\n",
    "# Build markers and popups\n",
    "for row in admin_with_event_counts.iterrows():\n",
    "    row_values = row[1] \n",
    "    center_point = row_values['center']\n",
    "    location = [center_point.y, center_point.x]\n",
    "    popup = ('Admin name: ' + str(row_values['english_admin_1_names']) + \n",
    "             ';  ' + 'Number of events occured: ' + str(row_values['number of events']))\n",
    "    marker = folium.Marker(location = location, popup = popup)\n",
    "    marker.add_to(m)"
   ]
  },
  {
   "cell_type": "code",
   "execution_count": 151,
   "metadata": {},
   "outputs": [],
   "source": [
    "m.save(\"somalia_events_choloropleth.html\")"
   ]
  },
  {
   "cell_type": "code",
   "execution_count": 155,
   "metadata": {},
   "outputs": [],
   "source": [
    "voilent_gdf.event_type = pd.to_datetime(voilent_gdf.event_date)"
   ]
  },
  {
   "cell_type": "code",
   "execution_count": 156,
   "metadata": {},
   "outputs": [],
   "source": [
    "voilent_gdf.set_index('event_date', inplace=True)"
   ]
  },
  {
   "cell_type": "code",
   "execution_count": 168,
   "metadata": {},
   "outputs": [
    {
     "data": {
      "text/plain": [
       "pandas.core.frame.DataFrame"
      ]
     },
     "execution_count": 168,
     "metadata": {},
     "output_type": "execute_result"
    }
   ],
   "source": [
    "voilent_gdf[voilent_gdf['admin1']=='Bay'].groupby('event_date').count()"
   ]
  },
  {
   "cell_type": "code",
   "execution_count": null,
   "metadata": {},
   "outputs": [],
   "source": [
    "voilent_gdf.plot(figsize=(20,10), linewidth=5, fontsize=20)\n",
    "plt.xlabel('Year', fontsize=20)"
   ]
  },
  {
   "cell_type": "code",
   "execution_count": 138,
   "metadata": {},
   "outputs": [
    {
     "data": {
      "text/html": [
       "<div>\n",
       "<style scoped>\n",
       "    .dataframe tbody tr th:only-of-type {\n",
       "        vertical-align: middle;\n",
       "    }\n",
       "\n",
       "    .dataframe tbody tr th {\n",
       "        vertical-align: top;\n",
       "    }\n",
       "\n",
       "    .dataframe thead th {\n",
       "        text-align: right;\n",
       "    }\n",
       "</style>\n",
       "<table border=\"1\" class=\"dataframe\">\n",
       "  <thead>\n",
       "    <tr style=\"text-align: right;\">\n",
       "      <th></th>\n",
       "      <th>english_admin_1_names</th>\n",
       "      <th>number of events</th>\n",
       "      <th>geometry</th>\n",
       "      <th>center</th>\n",
       "    </tr>\n",
       "  </thead>\n",
       "  <tbody>\n",
       "    <tr>\n",
       "      <td>2</td>\n",
       "      <td>Banadir</td>\n",
       "      <td>6095</td>\n",
       "      <td>POLYGON ((45.44235992431646 2.08708310127264, ...</td>\n",
       "      <td>POINT (45.42425127419144 2.109124814653644)</td>\n",
       "    </tr>\n",
       "    <tr>\n",
       "      <td>9</td>\n",
       "      <td>Lower Shabelle</td>\n",
       "      <td>3467</td>\n",
       "      <td>(POLYGON ((44.04041671752958 1.107360005378837...</td>\n",
       "      <td>POINT (44.32605649859484 1.903996271726766)</td>\n",
       "    </tr>\n",
       "    <tr>\n",
       "      <td>8</td>\n",
       "      <td>Lower Juba</td>\n",
       "      <td>1607</td>\n",
       "      <td>(POLYGON ((41.61375045776362 -1.60791802406311...</td>\n",
       "      <td>POINT (41.80258075226667 0.09213540591720709)</td>\n",
       "    </tr>\n",
       "    <tr>\n",
       "      <td>4</td>\n",
       "      <td>Bay</td>\n",
       "      <td>1482</td>\n",
       "      <td>POLYGON ((44.31000137329119 3.570000886917114,...</td>\n",
       "      <td>POINT (43.56644195092999 2.653014196489809)</td>\n",
       "    </tr>\n",
       "    <tr>\n",
       "      <td>7</td>\n",
       "      <td>Hiraan</td>\n",
       "      <td>1207</td>\n",
       "      <td>POLYGON ((45.70999908447271 5.110001087188721,...</td>\n",
       "      <td>POINT (45.474382686115 4.211939031114867)</td>\n",
       "    </tr>\n",
       "    <tr>\n",
       "      <td>6</td>\n",
       "      <td>Gedo</td>\n",
       "      <td>1078</td>\n",
       "      <td>POLYGON ((42.88999938964872 4.289999961853084,...</td>\n",
       "      <td>POINT (41.97713291324852 2.894831127998259)</td>\n",
       "    </tr>\n",
       "    <tr>\n",
       "      <td>3</td>\n",
       "      <td>Bari</td>\n",
       "      <td>916</td>\n",
       "      <td>(POLYGON ((51.18291854858393 10.55986118316656...</td>\n",
       "      <td>POINT (50.04870246210515 10.21982545074754)</td>\n",
       "    </tr>\n",
       "    <tr>\n",
       "      <td>12</td>\n",
       "      <td>Mudug</td>\n",
       "      <td>907</td>\n",
       "      <td>POLYGON ((49.50000000000017 7.570000171661434,...</td>\n",
       "      <td>POINT (48.15114736904502 6.377827039409858)</td>\n",
       "    </tr>\n",
       "    <tr>\n",
       "      <td>11</td>\n",
       "      <td>Middle Shabelle</td>\n",
       "      <td>845</td>\n",
       "      <td>POLYGON ((46.38999938964872 3.890000104904232,...</td>\n",
       "      <td>POINT (46.01033962168832 3.021458441118866)</td>\n",
       "    </tr>\n",
       "    <tr>\n",
       "      <td>1</td>\n",
       "      <td>Bakool</td>\n",
       "      <td>636</td>\n",
       "      <td>POLYGON ((44.75000000000006 4.070000171661434,...</td>\n",
       "      <td>POINT (43.95101432756121 4.208294143315604)</td>\n",
       "    </tr>\n",
       "    <tr>\n",
       "      <td>5</td>\n",
       "      <td>Galgaduud</td>\n",
       "      <td>600</td>\n",
       "      <td>POLYGON ((47.61000061035173 5.190001010894889,...</td>\n",
       "      <td>POINT (46.77802194672135 5.101418983301907)</td>\n",
       "    </tr>\n",
       "    <tr>\n",
       "      <td>15</td>\n",
       "      <td>Sool</td>\n",
       "      <td>400</td>\n",
       "      <td>POLYGON ((46.00999832153315 10.08000087738048,...</td>\n",
       "      <td>POINT (47.54057604000778 8.967787496636534)</td>\n",
       "    </tr>\n",
       "    <tr>\n",
       "      <td>16</td>\n",
       "      <td>Togdheer</td>\n",
       "      <td>303</td>\n",
       "      <td>POLYGON ((47.00000000000011 8.000000000000057,...</td>\n",
       "      <td>POINT (45.71427386720855 9.105072786674027)</td>\n",
       "    </tr>\n",
       "    <tr>\n",
       "      <td>14</td>\n",
       "      <td>Sanaag</td>\n",
       "      <td>258</td>\n",
       "      <td>(POLYGON ((46.92874908447271 10.91902828216564...</td>\n",
       "      <td>POINT (47.68233571956976 10.30455372156271)</td>\n",
       "    </tr>\n",
       "    <tr>\n",
       "      <td>17</td>\n",
       "      <td>Woqooyi Galbeed</td>\n",
       "      <td>248</td>\n",
       "      <td>POLYGON ((45.8051376342774 10.86874961853027, ...</td>\n",
       "      <td>POINT (44.56545505464001 9.875321011416176)</td>\n",
       "    </tr>\n",
       "    <tr>\n",
       "      <td>13</td>\n",
       "      <td>Nugaal</td>\n",
       "      <td>175</td>\n",
       "      <td>POLYGON ((49.18000030517584 8.770001411437931,...</td>\n",
       "      <td>POINT (48.91167499145049 8.107319083318179)</td>\n",
       "    </tr>\n",
       "    <tr>\n",
       "      <td>10</td>\n",
       "      <td>Middle Juba</td>\n",
       "      <td>173</td>\n",
       "      <td>POLYGON ((42.9799995422365 1.460000038146916, ...</td>\n",
       "      <td>POINT (42.5379329459204 1.225192721699023)</td>\n",
       "    </tr>\n",
       "    <tr>\n",
       "      <td>0</td>\n",
       "      <td>Awdal</td>\n",
       "      <td>91</td>\n",
       "      <td>(POLYGON ((43.46125030517607 11.35402774810791...</td>\n",
       "      <td>POINT (43.38188776706193 10.56472555866344)</td>\n",
       "    </tr>\n",
       "  </tbody>\n",
       "</table>\n",
       "</div>"
      ],
      "text/plain": [
       "   english_admin_1_names  number of events  \\\n",
       "2                Banadir              6095   \n",
       "9         Lower Shabelle              3467   \n",
       "8             Lower Juba              1607   \n",
       "4                    Bay              1482   \n",
       "7                 Hiraan              1207   \n",
       "6                   Gedo              1078   \n",
       "3                   Bari               916   \n",
       "12                 Mudug               907   \n",
       "11       Middle Shabelle               845   \n",
       "1                 Bakool               636   \n",
       "5              Galgaduud               600   \n",
       "15                  Sool               400   \n",
       "16              Togdheer               303   \n",
       "14                Sanaag               258   \n",
       "17       Woqooyi Galbeed               248   \n",
       "13                Nugaal               175   \n",
       "10           Middle Juba               173   \n",
       "0                  Awdal                91   \n",
       "\n",
       "                                             geometry  \\\n",
       "2   POLYGON ((45.44235992431646 2.08708310127264, ...   \n",
       "9   (POLYGON ((44.04041671752958 1.107360005378837...   \n",
       "8   (POLYGON ((41.61375045776362 -1.60791802406311...   \n",
       "4   POLYGON ((44.31000137329119 3.570000886917114,...   \n",
       "7   POLYGON ((45.70999908447271 5.110001087188721,...   \n",
       "6   POLYGON ((42.88999938964872 4.289999961853084,...   \n",
       "3   (POLYGON ((51.18291854858393 10.55986118316656...   \n",
       "12  POLYGON ((49.50000000000017 7.570000171661434,...   \n",
       "11  POLYGON ((46.38999938964872 3.890000104904232,...   \n",
       "1   POLYGON ((44.75000000000006 4.070000171661434,...   \n",
       "5   POLYGON ((47.61000061035173 5.190001010894889,...   \n",
       "15  POLYGON ((46.00999832153315 10.08000087738048,...   \n",
       "16  POLYGON ((47.00000000000011 8.000000000000057,...   \n",
       "14  (POLYGON ((46.92874908447271 10.91902828216564...   \n",
       "17  POLYGON ((45.8051376342774 10.86874961853027, ...   \n",
       "13  POLYGON ((49.18000030517584 8.770001411437931,...   \n",
       "10  POLYGON ((42.9799995422365 1.460000038146916, ...   \n",
       "0   (POLYGON ((43.46125030517607 11.35402774810791...   \n",
       "\n",
       "                                           center  \n",
       "2     POINT (45.42425127419144 2.109124814653644)  \n",
       "9     POINT (44.32605649859484 1.903996271726766)  \n",
       "8   POINT (41.80258075226667 0.09213540591720709)  \n",
       "4     POINT (43.56644195092999 2.653014196489809)  \n",
       "7       POINT (45.474382686115 4.211939031114867)  \n",
       "6     POINT (41.97713291324852 2.894831127998259)  \n",
       "3     POINT (50.04870246210515 10.21982545074754)  \n",
       "12    POINT (48.15114736904502 6.377827039409858)  \n",
       "11    POINT (46.01033962168832 3.021458441118866)  \n",
       "1     POINT (43.95101432756121 4.208294143315604)  \n",
       "5     POINT (46.77802194672135 5.101418983301907)  \n",
       "15    POINT (47.54057604000778 8.967787496636534)  \n",
       "16    POINT (45.71427386720855 9.105072786674027)  \n",
       "14    POINT (47.68233571956976 10.30455372156271)  \n",
       "17    POINT (44.56545505464001 9.875321011416176)  \n",
       "13    POINT (48.91167499145049 8.107319083318179)  \n",
       "10     POINT (42.5379329459204 1.225192721699023)  \n",
       "0     POINT (43.38188776706193 10.56472555866344)  "
      ]
     },
     "execution_count": 138,
     "metadata": {},
     "output_type": "execute_result"
    }
   ],
   "source": [
    "admin_with_event_counts.sort_values(by='number of events', ascending=False)"
   ]
  },
  {
   "cell_type": "markdown",
   "metadata": {},
   "source": [
    "### [Q] What are major voilent event types?"
   ]
  },
  {
   "cell_type": "code",
   "execution_count": 10,
   "metadata": {},
   "outputs": [
    {
     "data": {
      "text/plain": [
       "Battles                       10559\n",
       "Explosions/Remote violence     4758\n",
       "Violence against civilians     4742\n",
       "Riots                           429\n",
       "Name: event_type, dtype: int64"
      ]
     },
     "execution_count": 10,
     "metadata": {},
     "output_type": "execute_result"
    }
   ],
   "source": [
    "voilent_df.event_type.value_counts()"
   ]
  },
  {
   "cell_type": "code",
   "execution_count": 20,
   "metadata": {},
   "outputs": [],
   "source": [
    "def value_counts_plot(vc, xlabel='index values', ylabel='counts', title='value_counts_plot'):\n",
    "    \n",
    "    plt.figure(figsize=(8,6))\n",
    "    sns.barplot(vc.keys(), vc.values);\n",
    "    plt.xticks(rotation=90)\n",
    "    #plt.yticks(vc.values);\n",
    "    plt.xlabel(xlabel);\n",
    "    plt.ylabel(ylabel);\n",
    "    plt.title(title);\n",
    "    plt.tight_layout()\n",
    "    plt.show()"
   ]
  },
  {
   "cell_type": "code",
   "execution_count": 21,
   "metadata": {},
   "outputs": [
    {
     "data": {
      "image/png": "[encoded data removed]",
      "text/plain": [
       "<Figure size 576x432 with 1 Axes>"
      ]
     },
     "metadata": {
      "needs_background": "light"
     },
     "output_type": "display_data"
    }
   ],
   "source": [
    "value_counts_plot(vc=voilent_df.event_type.value_counts(), )"
   ]
  },
  {
   "cell_type": "code",
   "execution_count": 23,
   "metadata": {},
   "outputs": [
    {
     "data": {
      "image/png": "[encoded data removed]",
      "text/plain": [
       "<Figure size 576x432 with 1 Axes>"
      ]
     },
     "metadata": {
      "needs_background": "light"
     },
     "output_type": "display_data"
    }
   ],
   "source": [
    "value_counts_plot(vc=voilent_df.event_type.value_counts(normalize=True))"
   ]
  },
  {
   "cell_type": "markdown",
   "metadata": {},
   "source": [
    "- Nearly 50% events are caused by Battles, 22% dues to explosion and Voilence against civilians and 2% due to Riots. "
   ]
  },
  {
   "cell_type": "code",
   "execution_count": null,
   "metadata": {},
   "outputs": [],
   "source": []
  }
 ],
 "metadata": {
  "kernelspec": {
   "display_name": "Python 3",
   "language": "python",
   "name": "python3"
  },
  "language_info": {
   "codemirror_mode": {
    "name": "ipython",
    "version": 3
   },
   "file_extension": ".py",
   "mimetype": "text/x-python",
   "name": "python",
   "nbconvert_exporter": "python",
   "pygments_lexer": "ipython3",
   "version": "3.7.4"
  }
 },
 "nbformat": 4,
 "nbformat_minor": 2
}
